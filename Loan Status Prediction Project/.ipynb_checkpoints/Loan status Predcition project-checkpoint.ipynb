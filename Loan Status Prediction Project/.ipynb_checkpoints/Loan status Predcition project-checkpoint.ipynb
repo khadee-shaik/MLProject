{
 "cells": [
  {
   "cell_type": "code",
   "execution_count": null,
   "id": "77de1e43-8c13-4a0b-85c9-f3a4e205f5fe",
   "metadata": {},
   "outputs": [],
   "source": [
    "import numpy as np\n",
    "import pandas as pd \n",
    "import matplotlib.pyplot as plt\n",
    "import seaborn as sns\n",
    "from sklearn.metrics import accuracy_score\n",
    "from sklearn import svm\n",
    "from sklearn.model_selection import train_test_split"
   ]
  },
  {
   "cell_type": "code",
   "execution_count": null,
   "id": "c9be4222-783e-47f9-8521-e164aa2ba87a",
   "metadata": {},
   "outputs": [],
   "source": [
    "train_data = pd.read_csv(\"credit_train.csv\")\n",
    "test_data = pd.read_csv(\"credit_test.csv\")\n",
    "combined_data = pd.concat([train_data, test_data], ignore_index=True)\n",
    "combined_data.to_csv('combined_data.csv', index=False)"
   ]
  },
  {
   "cell_type": "code",
   "execution_count": null,
   "id": "2f67d4f3-7053-4836-ab53-7661ba63a8ec",
   "metadata": {},
   "outputs": [],
   "source": [
    "loan_data = pd.read_csv('combined_data.csv')\n",
    "loan_data.head()"
   ]
  },
  {
   "cell_type": "code",
   "execution_count": null,
   "id": "b728b281-9c83-4579-b2b7-af5a3481d853",
   "metadata": {},
   "outputs": [],
   "source": [
    "loan_data.isnull().sum()"
   ]
  },
  {
   "cell_type": "code",
   "execution_count": null,
   "id": "6c24290d-9dc9-4d14-958f-d3630fafea82",
   "metadata": {},
   "outputs": [],
   "source": [
    "loan_data.shape"
   ]
  },
  {
   "cell_type": "code",
   "execution_count": null,
   "id": "f94f8180-7dc1-4e78-9c4a-be8c35157be2",
   "metadata": {},
   "outputs": [],
   "source": [
    "loan_data.describe()"
   ]
  },
  {
   "cell_type": "code",
   "execution_count": null,
   "id": "5bbdd7d4-02fd-4c3f-a54e-97a3cb71cfc5",
   "metadata": {},
   "outputs": [],
   "source": [
    "loan_data = loan_data.dropna()"
   ]
  },
  {
   "cell_type": "code",
   "execution_count": null,
   "id": "db2dfc7d-9d22-4256-986a-9c4f108540e9",
   "metadata": {},
   "outputs": [],
   "source": [
    "loan_data.isnull().sum()"
   ]
  },
  {
   "cell_type": "code",
   "execution_count": null,
   "id": "5771b9db-c5c9-470c-9e6e-a193c89f072e",
   "metadata": {},
   "outputs": [],
   "source": [
    "loan_data.groupby('Loan Status').sum()"
   ]
  },
  {
   "cell_type": "code",
   "execution_count": null,
   "id": "e05c2d32-eae4-4cbd-8eb2-ddc580407bcc",
   "metadata": {},
   "outputs": [],
   "source": [
    "loan_data.replace({'Loan Status':{'Fully Paid':1,'Charged Off':0}},inplace=True)"
   ]
  },
  {
   "cell_type": "code",
   "execution_count": null,
   "id": "6f297508-2394-474e-bc29-19eb4ba0b27c",
   "metadata": {},
   "outputs": [],
   "source": [
    "loan_data.head()"
   ]
  },
  {
   "cell_type": "code",
   "execution_count": null,
   "id": "4efa825e-6a8d-4d1d-bf1d-ffcbfc62b4a0",
   "metadata": {},
   "outputs": [],
   "source": [
    "loan_data.groupby('Term').sum()"
   ]
  },
  {
   "cell_type": "code",
   "execution_count": null,
   "id": "781c75ad-444e-4106-9393-b60adf23263d",
   "metadata": {},
   "outputs": [],
   "source": [
    "loan_data.replace({'Term':{'Long Term':1,'Short Term':0}},inplace=True)\n",
    "loan_data.head()"
   ]
  },
  {
   "cell_type": "code",
   "execution_count": null,
   "id": "2fc0b6b7-08dc-4f9f-84ba-b4d46497d46a",
   "metadata": {},
   "outputs": [],
   "source": [
    "loan_data.groupby('Years in current job').sum()\n",
    "loan_data.replace({'Years in current job':{'1 year':1,'10+ years':11,'2 years':2,'3 years':3,'4 years':4,'5 years':5,'6 years':6,'7 years':7,'8 years':8,'9 years':9,'< 1 year':0.5}},inplace=True)"
   ]
  },
  {
   "cell_type": "code",
   "execution_count": null,
   "id": "61a704af-fb61-40ac-bee6-ce7b21882f9a",
   "metadata": {},
   "outputs": [],
   "source": [
    "# loan_data.head()\n",
    "# loan_data = loan_data.drop(columns=['Loan ID','Customer ID'],axis=1)\n",
    "# loan_data.head()"
   ]
  },
  {
   "cell_type": "code",
   "execution_count": null,
   "id": "07c51d29-8e6f-4fd4-aea5-5831cbe7263b",
   "metadata": {},
   "outputs": [],
   "source": [
    "loan_data.head()"
   ]
  },
  {
   "cell_type": "code",
   "execution_count": null,
   "id": "d74393c4-c59d-4231-a1b4-a46a7ca2f750",
   "metadata": {},
   "outputs": [],
   "source": [
    "loan_data.groupby('Purpose').sum()\n",
    "loan_data.groupby('Home Ownership').sum()\n"
   ]
  },
  {
   "cell_type": "code",
   "execution_count": null,
   "id": "11cc84a7-d6a5-4bdf-aac5-7b25ec42eee7",
   "metadata": {},
   "outputs": [],
   "source": [
    "# plt.figure(figsize=(5,5))\n",
    "sns.countplot(x='Home Ownership',hue='Loan Status',data=loan_data)\n"
   ]
  },
  {
   "cell_type": "code",
   "execution_count": null,
   "id": "bc2568fb-552c-473c-859d-f2a22768f5a6",
   "metadata": {},
   "outputs": [],
   "source": [
    "plt.figure(figsize=(5,5))\n",
    "sns.countplot(x='Purpose',hue='Loan Status',data=loan_data)\n",
    "plt.xticks(rotation=90)\n",
    "\n",
    "plt.show()"
   ]
  },
  {
   "cell_type": "code",
   "execution_count": null,
   "id": "63332d1f-c4c6-4872-b43d-703b131c7744",
   "metadata": {},
   "outputs": [],
   "source": [
    "loan_data.head()\n",
    "x = loan_data.drop(['Purpose','Home Ownership'],axis=1)\n",
    "y = loan_data['Loan Status']"
   ]
  },
  {
   "cell_type": "code",
   "execution_count": null,
   "id": "b08c830a-780f-430d-8e91-60917e4be561",
   "metadata": {},
   "outputs": [],
   "source": [
    "# x,y\n"
   ]
  },
  {
   "cell_type": "code",
   "execution_count": null,
   "id": "c900e46e-dde4-4a21-88c9-a09f71587c68",
   "metadata": {},
   "outputs": [],
   "source": [
    "# split the data into train and test datas\n",
    "x_train , x_test , y_train ,y_test = train_test_split(x,y,test_size=2,stratify=y,random_state=2)"
   ]
  },
  {
   "cell_type": "code",
   "execution_count": null,
   "id": "02b620ee-157b-47f2-876e-d2bd8c0460a5",
   "metadata": {},
   "outputs": [],
   "source": [
    "x.shape , x_train.shape , x_test.shape"
   ]
  },
  {
   "cell_type": "markdown",
   "id": "ad5de523-767f-49f8-9026-fd354799e106",
   "metadata": {},
   "source": [
    "# training the model \n",
    "# by support vectpor machine model"
   ]
  },
  {
   "cell_type": "code",
   "execution_count": null,
   "id": "08b3b497-0146-4335-83af-36a3acaa54d8",
   "metadata": {},
   "outputs": [],
   "source": [
    "classifier = svm.SVC(kernel='linear')\n",
    "classifier.fit(x_train,y_train)"
   ]
  },
  {
   "cell_type": "code",
   "execution_count": null,
   "id": "c4e2f48d-4fd5-432e-b2e1-dd6ba04350ae",
   "metadata": {},
   "outputs": [],
   "source": [
    "# model evaluate\n",
    "# find the accuracy scrore\n",
    "classifier_train__predict = classifier.predict(x_train)"
   ]
  },
  {
   "cell_type": "code",
   "execution_count": null,
   "id": "d76f3db7-e45f-4928-a0ba-4f20a6c43b26",
   "metadata": {},
   "outputs": [],
   "source": [
    "classifier_train_accuracy_sco = accuracy_score(classifier_train__predict,y_train)\n",
    "print(\"The accuarcy score of training data of [rediction error is :- \",classifier_train__accuracy_sco)"
   ]
  },
  {
   "cell_type": "code",
   "execution_count": null,
   "id": "9f4b9177-3938-4cd2-9314-a24e17c0bfa1",
   "metadata": {},
   "outputs": [],
   "source": [
    "# training the model \n",
    "# by support vectpor machine model\n",
    "# model evaluate\n",
    "# find the accuracy scrore\n",
    "classifier_test__predict = classifier.predict(x_test)\n",
    "classifier_test_accuracy_sco = accuracy_score(classifier_test__predict,y_test)\n",
    "print(\"The accuarcy score of testing data of [rediction error is :- \",classifier_test__accuracy_sco)"
   ]
  }
 ],
 "metadata": {
  "kernelspec": {
   "display_name": "Python 3 (ipykernel)",
   "language": "python",
   "name": "python3"
  },
  "language_info": {
   "codemirror_mode": {
    "name": "ipython",
    "version": 3
   },
   "file_extension": ".py",
   "mimetype": "text/x-python",
   "name": "python",
   "nbconvert_exporter": "python",
   "pygments_lexer": "ipython3",
   "version": "3.11.7"
  }
 },
 "nbformat": 4,
 "nbformat_minor": 5
}
